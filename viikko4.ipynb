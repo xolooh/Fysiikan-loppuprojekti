{
 "cells": [
  {
   "cell_type": "code",
   "execution_count": null,
   "metadata": {},
   "outputs": [],
   "source": [
    "import streamlit as st\n",
    "import pandas as pd\n",
    "import folium \n",
    "from streamlit_folium import st_folium\n",
    "\n",
    "url = \"https://raw.githubusercontent.com/ilpovirt/streamlit_map/main/GPSdata.csv\"\n",
    "df = pd.read_csv(url)\n",
    "\n",
    "st.title('My journey to work')\n",
    "\n",
    "#Print values\n",
    "st.write(\"Keskinopeus on :\", df['Speed (m/s)'].mean(),'m/s' )\n",
    "st.write(\"Kokonaismatka on :\", df['Distance (km)'].max(),'km' )\n",
    "\n",
    "#draw line plot\n",
    "st.line_chart(df, x = 'Time (s)', y = 'Distance (km)', y_label = 'Distance',x_label = 'Time')\n",
    "\n",
    "#Create a map where the center is at start_lat start_long and zoom level is defined\n",
    "start_lat = df['Latitude (°)'].mean()\n",
    "start_long = df['Longitude (°)'].mean()\n",
    "map = folium.Map(location = [start_lat,start_long], zoom_start = 14)\n",
    "\n",
    "#Draw the map\n",
    "folium.PolyLine(df[['Latitude (°)','Longitude (°)']], color = 'blue', weight = 3.5, opacity = 1).add_to(map)\n",
    "\n",
    "\n",
    "\n",
    "#Define map dimensions and show the map\n",
    "st_map = st_folium(map, width=900, height=650)"
   ]
  }
 ],
 "metadata": {
  "kernelspec": {
   "display_name": "Python 3",
   "language": "python",
   "name": "python3"
  },
  "language_info": {
   "codemirror_mode": {
    "name": "ipython",
    "version": 3
   },
   "file_extension": ".py",
   "mimetype": "text/x-python",
   "name": "python",
   "nbconvert_exporter": "python",
   "pygments_lexer": "ipython3",
   "version": "3.12.5"
  }
 },
 "nbformat": 4,
 "nbformat_minor": 2
}
